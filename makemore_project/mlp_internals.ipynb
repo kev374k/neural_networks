{
 "cells": [
  {
   "cell_type": "code",
   "execution_count": 1,
   "metadata": {},
   "outputs": [],
   "source": [
    "import numpy as np\n",
    "import pandas as pd\n",
    "import matplotlib.pyplot as plt\n",
    "import torch\n",
    "import torch.nn.functional as F\n",
    "%matplotlib inline"
   ]
  },
  {
   "cell_type": "code",
   "execution_count": 7,
   "metadata": {},
   "outputs": [
    {
     "data": {
      "text/html": [
       "<div>\n",
       "<style scoped>\n",
       "    .dataframe tbody tr th:only-of-type {\n",
       "        vertical-align: middle;\n",
       "    }\n",
       "\n",
       "    .dataframe tbody tr th {\n",
       "        vertical-align: top;\n",
       "    }\n",
       "\n",
       "    .dataframe thead th {\n",
       "        text-align: right;\n",
       "    }\n",
       "</style>\n",
       "<table border=\"1\" class=\"dataframe\">\n",
       "  <thead>\n",
       "    <tr style=\"text-align: right;\">\n",
       "      <th></th>\n",
       "      <th>name</th>\n",
       "    </tr>\n",
       "  </thead>\n",
       "  <tbody>\n",
       "    <tr>\n",
       "      <th>0</th>\n",
       "      <td>emma</td>\n",
       "    </tr>\n",
       "    <tr>\n",
       "      <th>1</th>\n",
       "      <td>olivia</td>\n",
       "    </tr>\n",
       "    <tr>\n",
       "      <th>2</th>\n",
       "      <td>ava</td>\n",
       "    </tr>\n",
       "    <tr>\n",
       "      <th>3</th>\n",
       "      <td>isabella</td>\n",
       "    </tr>\n",
       "    <tr>\n",
       "      <th>4</th>\n",
       "      <td>sophia</td>\n",
       "    </tr>\n",
       "  </tbody>\n",
       "</table>\n",
       "</div>"
      ],
      "text/plain": [
       "       name\n",
       "0      emma\n",
       "1    olivia\n",
       "2       ava\n",
       "3  isabella\n",
       "4    sophia"
      ]
     },
     "execution_count": 7,
     "metadata": {},
     "output_type": "execute_result"
    }
   ],
   "source": [
    "words = pd.read_table('names.txt', header=None, names=['name'])\n",
    "words[:5]"
   ]
  },
  {
   "cell_type": "code",
   "execution_count": 9,
   "metadata": {},
   "outputs": [
    {
     "name": "stdout",
     "output_type": "stream",
     "text": [
      "{1: 'a', 2: 'b', 3: 'c', 4: 'd', 5: 'e', 6: 'f', 7: 'g', 8: 'h', 9: 'i', 10: 'j', 11: 'k', 12: 'l', 13: 'm', 14: 'n', 15: 'o', 16: 'p', 17: 'q', 18: 'r', 19: 's', 20: 't', 21: 'u', 22: 'v', 23: 'w', 24: 'x', 25: 'y', 26: 'z', 0: '.'}\n",
      "27\n"
     ]
    }
   ],
   "source": [
    "# build the vocabulary of characters and mappings to/from integers\n",
    "chars = sorted(list(set(''.join(words['name']))))\n",
    "char_to_idx = {s:i+1 for i,s in enumerate(chars)}\n",
    "char_to_idx['.'] = 0\n",
    "idx_to_char = {i:s for s,i in char_to_idx.items()}\n",
    "vocab_size = len(idx_to_char)\n",
    "print(idx_to_char)\n",
    "print(vocab_size)"
   ]
  },
  {
   "cell_type": "code",
   "execution_count": 191,
   "metadata": {},
   "outputs": [],
   "source": [
    "def build_dataset(words, block_size = 3):\n",
    "    # first, initialize X and Y sets\n",
    "    X, Y = [], []\n",
    "\n",
    "    for w in words:\n",
    "        # use the 3 previous characters to predict the next character (similar to trigram approach):\n",
    "        context = [0] * block_size\n",
    "        for ch in w + '.':\n",
    "            idx = char_to_idx[ch]\n",
    "            X.append(context)\n",
    "            Y.append(idx)\n",
    "            context = context[1:] + [idx]\n",
    "    \n",
    "\n",
    "    X, Y = torch.tensor(X), torch.tensor(Y)\n",
    "\n",
    "    return X, Y\n",
    "\n",
    "def build_model(vocab_size, n_emb, n_hidden, block_size = 3):\n",
    "    # initialize the parameters of the model\n",
    "    C = torch.randn((vocab_size, n_emb))\n",
    "\n",
    "    # to initialize these, let's use Kaiming's Normalization numbers\n",
    "    W1 = torch.randn((n_emb * block_size, n_hidden)) * (5/3)/(n_emb * block_size) ** 0.5\n",
    "    # b1 = torch.randn(n_hidden) * 0.1\n",
    "    W2 = torch.randn((n_hidden, vocab_size)) * 0.1\n",
    "    b2 = torch.randn(vocab_size) * 0.01\n",
    "    bngain = torch.ones((1, n_hidden))\n",
    "    bnbias = torch.zeros((1, n_hidden))    \n",
    "    bnmean_running = torch.zeros((1, n_hidden))\n",
    "    bnstd_running = torch.ones((1, n_hidden))\n",
    "\n",
    "    return [C, W1, W2, b2, bngain, bnbias], [bnmean_running, bnstd_running]\n",
    "\n",
    "def train_model(Xtr, Ytr, Xte, Yte, grad_parameters, running_parameters, batch_size = 32, learning_rate = 0.1, epochs = 20000, return_running = False):\n",
    "    C, W1, W2, b2, bngain, bnbias = grad_parameters\n",
    "    bnmean_running, bnstd_running = running_parameters\n",
    "\n",
    "    loss_i = []\n",
    "\n",
    "    for p in grad_parameters:\n",
    "        p.requires_grad = True\n",
    "\n",
    "    for _ in range(epochs):\n",
    "        # implement stochastc gradient descent to train the model\n",
    "        ix = torch.randint(0, Xtr.shape[0], (batch_size,))\n",
    "\n",
    "        # embedding vector\n",
    "        emb = C[Xtr[ix]]\n",
    "\n",
    "        # first layer\n",
    "        embcat = emb.view(emb.shape[0], -1)\n",
    "\n",
    "        # make the numbers roughy Gaussian with batch normalization\n",
    "        hpreact = embcat @ W1 #+ b1\n",
    "        bn_mean = hpreact.mean(dim = 0, keepdim = True)\n",
    "        bn_std = hpreact.std(dim = 0, keepdim = True)\n",
    "        hpreact = bngain * (hpreact - bn_mean) / bn_std + bnbias\n",
    "\n",
    "        with torch.no_grad():\n",
    "            bnmean_running = 0.99 * bnmean_running + 0.01 * bn_mean\n",
    "            bnstd_running = 0.99 * bnstd_running + 0.01 * bn_std\n",
    "\n",
    "        h = torch.tanh(hpreact)\n",
    "\n",
    "        # second layer (non-linaerity)\n",
    "        logits = (h @ W2) + b2\n",
    "\n",
    "        # cross entropy loss\n",
    "        loss = F.cross_entropy(logits, Ytr[ix])\n",
    "\n",
    "        # make sure gradients aren't adding on top of each other\n",
    "        for p in grad_parameters:\n",
    "            p.grad = None\n",
    "        \n",
    "        # backwards pass\n",
    "        loss.backward()\n",
    "\n",
    "        # update parameters\n",
    "        if _ // 10000 == 1:\n",
    "            learning_rate = 0.01\n",
    "\n",
    "        for p in grad_parameters:\n",
    "            p.data -= learning_rate * p.grad\n",
    "\n",
    "        # if _ % 1000 == 0:\n",
    "        #     print(f'{_:7d}/{epochs:7d}: {loss.item():.4f}')\n",
    "        loss_i.append(np.log10(loss.item()))\n",
    "\n",
    "    # plot the loss\n",
    "    plt.plot(loss_i)\n",
    "\n",
    "    # find total loss based on Yte\n",
    "    emb = C[Xte]\n",
    "    embcat = emb.view(emb.shape[0], -1)\n",
    "    hpreact = embcat @ W1 + b1\n",
    "    hpreact = bngain * (hpreact - bn_mean) / bn_std + bnbias\n",
    "    h = torch.tanh(hpreact)\n",
    "    logits = h @ W2 + b2\n",
    "    loss = F.cross_entropy(logits, Yte)\n",
    "\n",
    "    if return_running:\n",
    "        return loss, [bnmean_running, bnstd_running]\n",
    "    else:\n",
    "        return loss\n"
   ]
  },
  {
   "cell_type": "code",
   "execution_count": 192,
   "metadata": {},
   "outputs": [],
   "source": [
    "import random \n",
    "\n",
    "all_names = words['name']\n",
    "random.shuffle(all_names)\n",
    "n1 = int(0.8 * all_names.shape[0])\n",
    "n2 = int(0.9 * all_names.shape[0])\n",
    "\n",
    "Xtr, Ytr = build_dataset(all_names[:n1])\n",
    "Xva, Yva = build_dataset(all_names[n1:n2])\n",
    "Xte, Yte = build_dataset(all_names[n2:])"
   ]
  },
  {
   "cell_type": "code",
   "execution_count": 193,
   "metadata": {},
   "outputs": [],
   "source": [
    "grad_parameters, running_parameters = build_model(27, 10, 300)"
   ]
  },
  {
   "cell_type": "code",
   "execution_count": 194,
   "metadata": {},
   "outputs": [
    {
     "data": {
      "image/png": "[encoded data removed]",
      "text/plain": [
       "<Figure size 640x480 with 1 Axes>"
      ]
     },
     "metadata": {},
     "output_type": "display_data"
    }
   ],
   "source": [
    "loss, running_params = train_model(Xtr, Ytr, Xva, Yva, grad_parameters, running_parameters, return_running = True) "
   ]
  },
  {
   "cell_type": "code",
   "execution_count": 196,
   "metadata": {},
   "outputs": [],
   "source": [
    "C, W1, W2, b2, bngain, bnbias = grad_parameters\n",
    "\n",
    "# we cam use the running values initialized in the training function instead of explicitly calling them\n",
    "bnmean_running, bnstd_running = running_params\n",
    "epsilon = 1e-5"
   ]
  },
  {
   "cell_type": "code",
   "execution_count": 199,
   "metadata": {},
   "outputs": [
    {
     "name": "stdout",
     "output_type": "stream",
     "text": [
      "train 2.1669249534606934\n",
      "val 2.181821584701538\n",
      "test 2.198303699493408\n"
     ]
    }
   ],
   "source": [
    "@torch.no_grad() # this decorator disables gradient tracking\n",
    "\n",
    "def split_loss(split):\n",
    "  x,y = {\n",
    "    'train': (Xtr, Ytr),\n",
    "    'val': (Xva, Yva),\n",
    "    'test': (Xte, Yte),\n",
    "  }[split]\n",
    "  emb = C[x] # (N, block_size, n_embd)\n",
    "  embcat = emb.view(emb.shape[0], -1) # concat into (N, block_size * n_embd)\n",
    "  hpreact = embcat @ W1 #+ b1\n",
    "  hpreact = bngain * (hpreact - bnmean_running) / (bnstd_running + epsilon) + bnbias\n",
    "  h = torch.tanh(hpreact) # (N, n_hidden)\n",
    "  logits = h @ W2 + b2 # (N, vocab_size)\n",
    "  loss = F.cross_entropy(logits, y)\n",
    "  print(split, loss.item())\n",
    "\n",
    "split_loss('train')\n",
    "split_loss('val')\n",
    "split_loss('test')"
   ]
  },
  {
   "cell_type": "markdown",
   "metadata": {},
   "source": [
    "Some ways we've improved the mode so far:\n",
    "1) Fixing the softmaxing\n",
    "2) Adjust the randomness of the parameters by making them smaller, inadvertently also fixing the tanh layer\n",
    "2) Fixing the tanh layer"
   ]
  },
  {
   "cell_type": "code",
   "execution_count": 229,
   "metadata": {},
   "outputs": [
    {
     "name": "stdout",
     "output_type": "stream",
     "text": [
      "dee\n",
      "abriana\n",
      "ameah\n",
      "ryce\n",
      "nomia\n",
      "aylinden\n",
      "nestor\n",
      "oluwaprez\n",
      "ableantyn\n",
      "kalakonnellae\n",
      "rohiannet\n",
      "harani\n",
      "jnen\n",
      "ioghedmeruto\n",
      "shart\n",
      "han\n",
      "tchis\n",
      "novannahdise\n",
      "sroanen\n",
      "braedyn\n"
     ]
    }
   ],
   "source": [
    "# Samplign from the Neural Network\n",
    "\n",
    "for _ in range(20):\n",
    "    output = []\n",
    "    context = [0] * 3\n",
    "    while True:\n",
    "        emb = C[torch.tensor(context).view(1, -1)]\n",
    "        embcat = emb.view(emb.shape[0], -1)\n",
    "        hpreact = embcat @ W1\n",
    "        hpreact = bngain * (hpreact - bnmean_running) / (bnstd_running + epsilon) + bnbias\n",
    "        h = torch.tanh(hpreact)\n",
    "        logits = h @ W2 + b2\n",
    "        p = F.softmax(logits, dim=1)\n",
    "        idx = torch.multinomial(p, 1).item()\n",
    "        if idx == 0:\n",
    "            break\n",
    "        output.append(idx)\n",
    "        context = context[1:] + [idx]\n",
    "        if idx == 0:\n",
    "            break\n",
    "\n",
    "    # print(output)\n",
    "    print(''.join(idx_to_char[i] for i in output))"
   ]
  },
  {
   "cell_type": "code",
   "execution_count": 216,
   "metadata": {},
   "outputs": [],
   "source": [
    "# one problem with the tanh, sigmoid, and RELU activation functions are that they have the potential to squash an entire neuron, which is called the vanishing gradient problem.\n",
    "# One activation function to solve this problem is by "
   ]
  },
  {
   "cell_type": "code",
   "execution_count": null,
   "metadata": {},
   "outputs": [],
   "source": []
  }
 ],
 "metadata": {
  "kernelspec": {
   "display_name": "base",
   "language": "python",
   "name": "python3"
  },
  "language_info": {
   "codemirror_mode": {
    "name": "ipython",
    "version": 3
   },
   "file_extension": ".py",
   "mimetype": "text/x-python",
   "name": "python",
   "nbconvert_exporter": "python",
   "pygments_lexer": "ipython3",
   "version": "3.11.5"
  }
 },
 "nbformat": 4,
 "nbformat_minor": 2
}
