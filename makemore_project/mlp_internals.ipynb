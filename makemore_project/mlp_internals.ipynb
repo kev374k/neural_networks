{
 "cells": [
  {
   "cell_type": "code",
   "execution_count": 1,
   "metadata": {},
   "outputs": [],
   "source": [
    "import numpy as np\n",
    "import pandas as pd\n",
    "import matplotlib.pyplot as plt\n",
    "import torch\n",
    "import torch.nn.functional as F\n",
    "%matplotlib inline"
   ]
  },
  {
   "cell_type": "code",
   "execution_count": 7,
   "metadata": {},
   "outputs": [
    {
     "data": {
      "text/html": [
       "<div>\n",
       "<style scoped>\n",
       "    .dataframe tbody tr th:only-of-type {\n",
       "        vertical-align: middle;\n",
       "    }\n",
       "\n",
       "    .dataframe tbody tr th {\n",
       "        vertical-align: top;\n",
       "    }\n",
       "\n",
       "    .dataframe thead th {\n",
       "        text-align: right;\n",
       "    }\n",
       "</style>\n",
       "<table border=\"1\" class=\"dataframe\">\n",
       "  <thead>\n",
       "    <tr style=\"text-align: right;\">\n",
       "      <th></th>\n",
       "      <th>name</th>\n",
       "    </tr>\n",
       "  </thead>\n",
       "  <tbody>\n",
       "    <tr>\n",
       "      <th>0</th>\n",
       "      <td>emma</td>\n",
       "    </tr>\n",
       "    <tr>\n",
       "      <th>1</th>\n",
       "      <td>olivia</td>\n",
       "    </tr>\n",
       "    <tr>\n",
       "      <th>2</th>\n",
       "      <td>ava</td>\n",
       "    </tr>\n",
       "    <tr>\n",
       "      <th>3</th>\n",
       "      <td>isabella</td>\n",
       "    </tr>\n",
       "    <tr>\n",
       "      <th>4</th>\n",
       "      <td>sophia</td>\n",
       "    </tr>\n",
       "  </tbody>\n",
       "</table>\n",
       "</div>"
      ],
      "text/plain": [
       "       name\n",
       "0      emma\n",
       "1    olivia\n",
       "2       ava\n",
       "3  isabella\n",
       "4    sophia"
      ]
     },
     "execution_count": 7,
     "metadata": {},
     "output_type": "execute_result"
    }
   ],
   "source": [
    "words = pd.read_table('names.txt', header=None, names=['name'])\n",
    "words[:5]"
   ]
  },
  {
   "cell_type": "code",
   "execution_count": 9,
   "metadata": {},
   "outputs": [
    {
     "name": "stdout",
     "output_type": "stream",
     "text": [
      "{1: 'a', 2: 'b', 3: 'c', 4: 'd', 5: 'e', 6: 'f', 7: 'g', 8: 'h', 9: 'i', 10: 'j', 11: 'k', 12: 'l', 13: 'm', 14: 'n', 15: 'o', 16: 'p', 17: 'q', 18: 'r', 19: 's', 20: 't', 21: 'u', 22: 'v', 23: 'w', 24: 'x', 25: 'y', 26: 'z', 0: '.'}\n",
      "27\n"
     ]
    }
   ],
   "source": [
    "# build the vocabulary of characters and mappings to/from integers\n",
    "chars = sorted(list(set(''.join(words['name']))))\n",
    "char_to_idx = {s:i+1 for i,s in enumerate(chars)}\n",
    "char_to_idx['.'] = 0\n",
    "idx_to_char = {i:s for s,i in char_to_idx.items()}\n",
    "vocab_size = len(idx_to_char)\n",
    "print(idx_to_char)\n",
    "print(vocab_size)"
   ]
  },
  {
   "cell_type": "code",
   "execution_count": 125,
   "metadata": {},
   "outputs": [],
   "source": [
    "def build_dataset(words, block_size = 3):\n",
    "    # first, initialize X and Y sets\n",
    "    X, Y = [], []\n",
    "\n",
    "    for w in words:\n",
    "        # use the 3 previous characters to predict the next character (similar to trigram approach):\n",
    "        context = [0] * block_size\n",
    "        for ch in w + '.':\n",
    "            idx = char_to_idx[ch]\n",
    "            X.append(context)\n",
    "            Y.append(idx)\n",
    "            context = context[1:] + [idx]\n",
    "    \n",
    "\n",
    "    X, Y = torch.tensor(X), torch.tensor(Y)\n",
    "\n",
    "    return X, Y\n",
    "\n",
    "def build_model(vocab_size, n_emb, n_hidden, block_size = 3):\n",
    "    # initialize the parameters of the model\n",
    "    C = torch.randn((vocab_size, n_emb))\n",
    "\n",
    "    # to initialize these, let's use Kaiming's Normalization numbers\n",
    "    W1 = torch.randn((n_emb * block_size, n_hidden)) * (5/3)/(n_emb * block_size) ** 0.5\n",
    "    b1 = torch.randn(n_hidden) * 0.1\n",
    "    W2 = torch.randn((n_hidden, vocab_size)) * 0.1\n",
    "    b2 = torch.randn(vocab_size) * 0.01\n",
    "    bngain = torch.ones((1, n_hidden))\n",
    "    bnbias = torch.zeros((1, n_hidden))    \n",
    "\n",
    "    return [C, W1, b1, W2, b2, bngain, bnbias]\n",
    "\n",
    "def train_model(Xtr, Ytr, Xte, Yte, parameters, batch_size = 32, learning_rate = 0.06, epochs = 20000):\n",
    "    C, W1, b1, W2, b2, bngain, bnbias = parameters\n",
    "    \n",
    "    loss_i = []\n",
    "\n",
    "    for p in parameters:\n",
    "        p.requires_grad = True\n",
    "\n",
    "    for _ in range(epochs):\n",
    "        # implement stochastc gradient descent to train the model\n",
    "        ix = torch.randint(0, Xtr.shape[0], (batch_size,))\n",
    "\n",
    "        # embedding vector\n",
    "        emb = C[Xtr[ix]]\n",
    "\n",
    "        # first layer\n",
    "        embcat = emb.view(emb.shape[0], -1)\n",
    "\n",
    "        # make the numbers roughy Gaussian with batch normalization\n",
    "        hpreact = embcat @ W1 + b1\n",
    "        bn_mean = hpreact.mean(dim = 0, keepdim = True)\n",
    "        bn_std = hpreact.std(dim = 0, keepdim = True)\n",
    "        hpreact = bngain * (hpreact - bn_mean) / bn_std + bnbias\n",
    "        h = torch.tanh(hpreact)\n",
    "\n",
    "        # second layer\n",
    "        logits = (h @ W2) + b2\n",
    "\n",
    "        # cross entropy loss\n",
    "        loss = F.cross_entropy(logits, Ytr[ix])\n",
    "\n",
    "        # make sure gradients aren't adding on top of each other\n",
    "        for p in parameters:\n",
    "            p.grad = None\n",
    "        \n",
    "        # backwards pass\n",
    "        loss.backward()\n",
    "\n",
    "        # update parameters\n",
    "        if _ // 10000 == 1:\n",
    "            learning_rate = 0.005\n",
    "\n",
    "        for p in parameters:\n",
    "            p.data -= learning_rate * p.grad\n",
    "\n",
    "        if _ % 1000 == 0:\n",
    "            print(f'{_:7d}/{epochs:7d}: {loss.item():.4f}')\n",
    "        loss_i.append(np.log10(loss.item()))\n",
    "\n",
    "    # plot the loss\n",
    "    plt.plot(loss_i)\n",
    "\n",
    "    # find total loss based on Yte\n",
    "    emb = C[Xte]\n",
    "    h = torch.tanh(emb.view(-1, 30) @ W1 + b1)\n",
    "    logits = h @ W2 + b2\n",
    "    loss = F.cross_entropy(logits, Yte)\n",
    "    return loss\n"
   ]
  },
  {
   "cell_type": "code",
   "execution_count": 126,
   "metadata": {},
   "outputs": [],
   "source": [
    "import random \n",
    "\n",
    "all_names = words['name']\n",
    "random.shuffle(all_names)\n",
    "n1 = int(0.8 * all_names.shape[0])\n",
    "n2 = int(0.9 * all_names.shape[0])\n",
    "\n",
    "Xtr, Ytr = build_dataset(all_names[:n1])\n",
    "Xva, Yva = build_dataset(all_names[n1:n2])\n",
    "Xte, Yte = build_dataset(all_names[n2:])"
   ]
  },
  {
   "cell_type": "code",
   "execution_count": 127,
   "metadata": {},
   "outputs": [],
   "source": [
    "parameters = build_model(27, 10, 300)"
   ]
  },
  {
   "cell_type": "code",
   "execution_count": 128,
   "metadata": {},
   "outputs": [
    {
     "name": "stdout",
     "output_type": "stream",
     "text": [
      "      0/  20000: 3.7982\n",
      "   1000/  20000: 2.4329\n",
      "   2000/  20000: 2.1913\n",
      "   3000/  20000: 2.2838\n",
      "   4000/  20000: 2.3044\n",
      "   5000/  20000: 2.2237\n",
      "   6000/  20000: 2.3099\n",
      "   7000/  20000: 2.0355\n",
      "   8000/  20000: 2.3549\n",
      "   9000/  20000: 2.1297\n",
      "  10000/  20000: 1.9306\n",
      "  11000/  20000: 2.2369\n",
      "  12000/  20000: 2.1765\n",
      "  13000/  20000: 2.4015\n",
      "  14000/  20000: 2.3571\n",
      "  15000/  20000: 2.0835\n",
      "  16000/  20000: 1.9227\n",
      "  17000/  20000: 2.5615\n",
      "  18000/  20000: 2.3872\n",
      "  19000/  20000: 1.9681\n"
     ]
    },
    {
     "data": {
      "text/plain": [
       "tensor(2.8700, grad_fn=<NllLossBackward0>)"
      ]
     },
     "execution_count": 128,
     "metadata": {},
     "output_type": "execute_result"
    },
    {
     "data": {
      "image/png": "[encoded data removed]",
      "text/plain": [
       "<Figure size 640x480 with 1 Axes>"
      ]
     },
     "metadata": {},
     "output_type": "display_data"
    }
   ],
   "source": [
    "train_model(Xtr, Ytr, Xva, Yva, parameters)"
   ]
  },
  {
   "cell_type": "code",
   "execution_count": 109,
   "metadata": {},
   "outputs": [],
   "source": [
    "C, W1, b1, W2, b2 = parameters"
   ]
  },
  {
   "cell_type": "code",
   "execution_count": 110,
   "metadata": {},
   "outputs": [],
   "source": [
    "# calibrate the batch norm at the end of training\n",
    "\n",
    "with torch.no_grad():\n",
    "  # pass the training set through\n",
    "  emb = C[Xtr]\n",
    "  embcat = emb.view(emb.shape[0], -1)\n",
    "  hpreact = embcat @ W1 # + b1\n",
    "  # measure the mean/std over the entire training set\n",
    "  bnmean = hpreact.mean(0, keepdim=True)\n",
    "  bnstd = hpreact.std(0, keepdim=True)"
   ]
  },
  {
   "cell_type": "code",
   "execution_count": 111,
   "metadata": {},
   "outputs": [
    {
     "name": "stdout",
     "output_type": "stream",
     "text": [
      "train 2.123508930206299\n",
      "val 2.1577563285827637\n",
      "test 2.1529533863067627\n"
     ]
    }
   ],
   "source": [
    "@torch.no_grad() # this decorator disables gradient tracking\n",
    "\n",
    "def split_loss(split):\n",
    "  x,y = {\n",
    "    'train': (Xtr, Ytr),\n",
    "    'val': (Xva, Yva),\n",
    "    'test': (Xte, Yte),\n",
    "  }[split]\n",
    "  emb = C[x] # (N, block_size, n_embd)\n",
    "  embcat = emb.view(emb.shape[0], -1) # concat into (N, block_size * n_embd)\n",
    "  h = torch.tanh(embcat @ W1 + b1) # (N, n_hidden)\n",
    "  logits = h @ W2 + b2 # (N, vocab_size)\n",
    "  loss = F.cross_entropy(logits, y)\n",
    "  print(split, loss.item())\n",
    "\n",
    "split_loss('train')\n",
    "split_loss('val')\n",
    "split_loss('test')"
   ]
  },
  {
   "cell_type": "markdown",
   "metadata": {},
   "source": [
    "Some ways we've improved the mode so far:\n",
    "1) Fixing the softmaxing\n",
    "2) Adjust the randomness of the parameters by making them smaller, inadvertently also fixing the tanh layer\n",
    "2) Fixing the tanh layer"
   ]
  },
  {
   "cell_type": "code",
   "execution_count": 104,
   "metadata": {},
   "outputs": [
    {
     "name": "stdout",
     "output_type": "stream",
     "text": [
      "edini\n",
      "siyazan\n",
      "cot\n",
      "szell\n",
      "maxira\n",
      "kasheanna\n",
      "lacbrycenne\n",
      "arlettaj\n",
      "amyah\n",
      "kjabgi\n",
      "inaid\n",
      "lilynn\n",
      "janna\n",
      "myzin\n",
      "mila\n",
      "romin\n",
      "avard\n",
      "kammi\n",
      "on\n",
      "zia\n"
     ]
    }
   ],
   "source": [
    "# Samplign from the Neural Network\n",
    "\n",
    "for _ in range(20):\n",
    "    output = []\n",
    "    context = [0] * 3\n",
    "    while True:\n",
    "        emb = C[torch.tensor(context).view(1, -1)]\n",
    "        h = torch.tanh(emb.view(emb.shape[0], -1) @ W1 + b1)\n",
    "        logits = h @ W2 + b2\n",
    "        p = F.softmax(logits, dim=1)\n",
    "        idx = torch.multinomial(p, 1).item()\n",
    "        if idx == 0:\n",
    "            break\n",
    "        output.append(idx)\n",
    "        context = context[1:] + [idx]\n",
    "        if idx == 0:\n",
    "            break\n",
    "\n",
    "    print(''.join(idx_to_char[i] for i in output))"
   ]
  },
  {
   "cell_type": "code",
   "execution_count": null,
   "metadata": {},
   "outputs": [],
   "source": [
    "# one problem with the tanh, sigmoid, and RELU activation functions are that they have the potential to squash an entire neuron, which is called the vanishing gradient problem.\n",
    "# One activation function to solve this problem is by "
   ]
  }
 ],
 "metadata": {
  "kernelspec": {
   "display_name": "base",
   "language": "python",
   "name": "python3"
  },
  "language_info": {
   "codemirror_mode": {
    "name": "ipython",
    "version": 3
   },
   "file_extension": ".py",
   "mimetype": "text/x-python",
   "name": "python",
   "nbconvert_exporter": "python",
   "pygments_lexer": "ipython3",
   "version": "3.11.5"
  }
 },
 "nbformat": 4,
 "nbformat_minor": 2
}
